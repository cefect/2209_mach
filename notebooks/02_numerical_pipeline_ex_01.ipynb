{
 "cells": [
  {
   "cell_type": "markdown",
   "id": "2455064b",
   "metadata": {},
   "source": [
    "# 📝 Exercise M1.03\n",
    "\n",
    "The goal of this exercise is to compare the performance of our classifier in\n",
    "the previous notebook (roughly 81% accuracy with `LogisticRegression`) to\n",
    "some simple baseline classifiers. The simplest baseline classifier is one\n",
    "that always predicts the same class, irrespective of the input data.\n",
    "\n",
    "- What would be the score of a model that always predicts `' >50K'`?\n",
    "- What would be the score of a model that always predicts `' <=50K'`?\n",
    "- Is 81% or 82% accuracy a good score for this problem?\n",
    "\n",
    "Use a `DummyClassifier` and do a train-test split to evaluate\n",
    "its accuracy on the test set. This\n",
    "[link](https://scikit-learn.org/stable/modules/model_evaluation.html#dummy-estimators)\n",
    "shows a few examples of how to evaluate the generalization performance of these\n",
    "baseline models."
   ]
  },
  {
   "cell_type": "code",
   "execution_count": 1,
   "id": "d79d7f8c",
   "metadata": {},
   "outputs": [],
   "source": [
    "import pandas as pd\n",
    "\n",
    "adult_census = pd.read_csv(\"../datasets/adult-census.csv\")"
   ]
  },
  {
   "cell_type": "markdown",
   "id": "dddffdba",
   "metadata": {},
   "source": [
    "We will first split our dataset to have the target separated from the data\n",
    "used to train our predictive model."
   ]
  },
  {
   "cell_type": "code",
   "execution_count": 2,
   "id": "79a5468c",
   "metadata": {},
   "outputs": [],
   "source": [
    "target_name = \"class\"\n",
    "target = adult_census[target_name]\n",
    "data = adult_census.drop(columns=target_name)"
   ]
  },
  {
   "cell_type": "markdown",
   "id": "3d444839",
   "metadata": {},
   "source": [
    "We start by selecting only the numerical columns as seen in the previous\n",
    "notebook."
   ]
  },
  {
   "cell_type": "code",
   "execution_count": 3,
   "id": "aaa1706d",
   "metadata": {},
   "outputs": [],
   "source": [
    "numerical_columns = [\n",
    "    \"age\", \"capital-gain\", \"capital-loss\", \"hours-per-week\"]\n",
    "\n",
    "data_numeric = data[numerical_columns]"
   ]
  },
  {
   "cell_type": "markdown",
   "id": "45aa2a6d",
   "metadata": {},
   "source": [
    "Split the data and target into a train and test set."
   ]
  },
  {
   "cell_type": "code",
   "execution_count": 7,
   "id": "2ab07088",
   "metadata": {},
   "outputs": [],
   "source": [
    "from sklearn.model_selection import train_test_split\n",
    "\n",
    "#train_test_split?\n",
    "data_train, data_test, target_train, target_test = train_test_split(\n",
    "    data_numeric, target, random_state=42, test_size=0.25)"
   ]
  },
  {
   "cell_type": "markdown",
   "id": "34bef14b",
   "metadata": {},
   "source": [
    "Use a `DummyClassifier` such that the resulting classifier will always\n",
    "predict the class `' >50K'`. What is the accuracy score on the test set?\n",
    "Repeat the experiment by always predicting the class `' <=50K'`.\n",
    "\n",
    "Hint: you can set the `strategy` parameter of the `DummyClassifier` to\n",
    "achieve the desired behavior."
   ]
  },
  {
   "cell_type": "markdown",
   "id": "5c9b759e-ea0d-4b19-8747-428e51e0d8aa",
   "metadata": {
    "tags": []
   },
   "source": [
    "## Dummy on ' >50K'"
   ]
  },
  {
   "cell_type": "code",
   "execution_count": 8,
   "id": "49e4a62e",
   "metadata": {},
   "outputs": [
    {
     "data": {
      "text/plain": [
       "0.23396937187781508"
      ]
     },
     "execution_count": 8,
     "metadata": {},
     "output_type": "execute_result"
    }
   ],
   "source": [
    "from sklearn.dummy import DummyClassifier\n",
    "pval = ' >50K'\n",
    "clf  = DummyClassifier(strategy='constant', constant=pval)\n",
    "clf.fit(data_train, target_train)\n",
    "clf.score(data_test, target_test)\n",
    "\n",
    "# Write your code here."
   ]
  },
  {
   "cell_type": "markdown",
   "id": "3b101e54-d9ff-4c16-91e5-21822564675c",
   "metadata": {
    "tags": []
   },
   "source": [
    "## Dummy on '<=50K'"
   ]
  },
  {
   "cell_type": "code",
   "execution_count": 9,
   "id": "067a3473-7758-4e72-8de7-f4c2e6117d48",
   "metadata": {},
   "outputs": [
    {
     "data": {
      "text/plain": [
       "0.7660306281221849"
      ]
     },
     "execution_count": 9,
     "metadata": {},
     "output_type": "execute_result"
    }
   ],
   "source": [
    "from sklearn.dummy import DummyClassifier\n",
    "pval = ' <=50K'\n",
    "clf  = DummyClassifier(strategy='constant', constant=pval)\n",
    "clf.fit(data_train, target_train)\n",
    "clf.score(data_test, target_test)\n",
    "\n",
    "# Write your code here."
   ]
  },
  {
   "cell_type": "code",
   "execution_count": 10,
   "id": "83cf192d-6d51-448b-a991-ae194d6bb6fe",
   "metadata": {},
   "outputs": [
    {
     "ename": "ModuleNotFoundError",
     "evalue": "No module named 'dask'",
     "output_type": "error",
     "traceback": [
      "\u001b[1;31m---------------------------------------------------------------------------\u001b[0m",
      "\u001b[1;31mModuleNotFoundError\u001b[0m                       Traceback (most recent call last)",
      "Input \u001b[1;32mIn [10]\u001b[0m, in \u001b[0;36m<cell line: 1>\u001b[1;34m()\u001b[0m\n\u001b[1;32m----> 1\u001b[0m \u001b[38;5;28;01mimport\u001b[39;00m \u001b[38;5;21;01mdask\u001b[39;00m\n",
      "\u001b[1;31mModuleNotFoundError\u001b[0m: No module named 'dask'"
     ]
    }
   ],
   "source": [
    "import dask"
   ]
  }
 ],
 "metadata": {
  "jupytext": {
   "encoding": "# -*- coding: utf-8 -*-",
   "main_language": "python"
  },
  "kernelspec": {
   "display_name": "Python 3 (ipykernel)",
   "language": "python",
   "name": "python3"
  },
  "language_info": {
   "codemirror_mode": {
    "name": "ipython",
    "version": 3
   },
   "file_extension": ".py",
   "mimetype": "text/x-python",
   "name": "python",
   "nbconvert_exporter": "python",
   "pygments_lexer": "ipython3",
   "version": "3.10.6"
  }
 },
 "nbformat": 4,
 "nbformat_minor": 5
}
